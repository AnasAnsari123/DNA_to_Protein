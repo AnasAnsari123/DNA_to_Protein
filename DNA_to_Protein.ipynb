{
  "nbformat": 4,
  "nbformat_minor": 0,
  "metadata": {
    "colab": {
      "provenance": []
    },
    "kernelspec": {
      "name": "python3",
      "display_name": "Python 3"
    },
    "language_info": {
      "name": "python"
    }
  },
  "cells": [
    {
      "cell_type": "markdown",
      "source": [
        "###Define the genetic code mapping from codons to amino acids\n"
      ],
      "metadata": {
        "id": "X4I8stlI4v_K"
      }
    },
    {
      "cell_type": "code",
      "source": [
        "\n",
        "genetic_code = {\n",
        "    'TTT': 'F', 'TTC': 'F', 'TTA': 'L', 'TTG': 'L',\n",
        "    'CTT': 'L', 'CTC': 'L', 'CTA': 'L', 'CTG': 'L',\n",
        "    'ATT': 'I', 'ATC': 'I', 'ATA': 'I', 'ATG': 'M',\n",
        "    'GTT': 'V', 'GTC': 'V', 'GTA': 'V', 'GTG': 'V',\n",
        "    'TCT': 'S', 'TCC': 'S', 'TCA': 'S', 'TCG': 'S',\n",
        "    'CCT': 'P', 'CCC': 'P', 'CCA': 'P', 'CCG': 'P',\n",
        "    'ACT': 'T', 'ACC': 'T', 'ACA': 'T', 'ACG': 'T',\n",
        "    'GCT': 'A', 'GCC': 'A', 'GCA': 'A', 'GCG': 'A',\n",
        "    'TAT': 'Y', 'TAC': 'Y', 'TAA': '*', 'TAG': '*',\n",
        "    'CAT': 'H', 'CAC': 'H', 'CAA': 'Q', 'CAG': 'Q',\n",
        "    'AAT': 'N', 'AAC': 'N', 'AAA': 'K', 'AAG': 'K',\n",
        "    'GAT': 'D', 'GAC': 'D', 'GAA': 'E', 'GAG': 'E',\n",
        "    'TGT': 'C', 'TGC': 'C', 'TGA': '*', 'TGG': 'W',\n",
        "    'CGT': 'R', 'CGC': 'R', 'CGA': 'R', 'CGG': 'R',\n",
        "    'AGT': 'S', 'AGC': 'S', 'AGA': 'R', 'AGG': 'R',\n",
        "    'GGT': 'G', 'GGC': 'G', 'GGA': 'G', 'GGG': 'G'\n",
        "}\n",
        "\n",
        "def translate_dna_to_protein(dna_sequence):\n",
        "    protein_sequence = \"\"\n",
        "    for i in range(0, len(dna_sequence), 3):\n",
        "        codon = dna_sequence[i:i+3]\n",
        "        amino_acid = genetic_code.get(codon, 'X')  # 'X' represents an unknown amino acid\n",
        "        protein_sequence += amino_acid\n",
        "    return protein_sequence\n"
      ],
      "metadata": {
        "id": "Va8WD24D4rBw"
      },
      "execution_count": 7,
      "outputs": []
    },
    {
      "cell_type": "code",
      "source": [
        "dna_sequence=\"TTTACAGCTTTTAGCCAGAAAGAACTCGCTGGGAAAATCAGAGAAGGCAAATTCAGGCGAATTCCATACCGTTACTCTGATGAATTGAATGAAATTATTACGAGGATGTTAAACTTAAAGGATTACCATCGACCTTCTGTTGAAGAAATTCTTGAGAACCCTTTAATAGCAGATTTGGTTGCAGACGAGCAAAGAAGAAATCTTGAGAGAAGAGGGCGACAATTAGGAGAGCCAGAAAAATCGCAGGATTCCAGCCCTGTATTGAGTGAGCTGAAACTGAAGGAAATTCAGTTACAGGAGCGAGAGCGAGCTCTCAAAGCAAGAGAAGAAAGATTGGAGCAGAAAGAACAGGAGCTTTGTGTTCGTGAGAGACTAGCAGAGGACAAACTGGCTAGAGCAGAAAATCTGTTGAAGAACTACAGCTTGCTAAAGGAACGGAAGTTCCTGTCTCTGGCAAGTAATCCAGTAATTAAGAAGAAAGTTCATTTCAGTGGGGAAAGTAAAGAGAACATCATGAGGAGTGAGAATTCTGAGAGTCAGCTCACATCTAAGTCCAAGTGCAAGGACCTGAAGAAAAGGCTTCACGCTGCCCAGCTGCGGGCTCAAGCCCTGTCAGATATTGAGAAAAATTACCAACTGAAAAGCAGACAGATCCTGGGCATGCGCTAGCCAGGTAGAGAGACACAGAGCTGTGTACAGGATGTAATATTACCAACCTTTAAAGACTGATATTCAAATGCTGTAGTGTTGAATACTTGGTTCCATGAGCCATGCCTTTCTGTATAGTACACATGATATTTCGGAATTGGTTTTACTGTTCTTCAGCAACTATTGTACAAAATGTTCACATTTAATTTTTCTTTCTTCTTTTAAGAACATATTATAAAAAGAATACTTTCTTGGTTGGGCTTTTAATCCTGTGTGTGATTACTAGTAGGAACATGAGATGTGACATTCTAAATCTTGGGAGAAAAAATAATGTTAGGAAAAAAATATTTATGCAGGAAGAGTAGCACTCACTGAATAGTTTTAAATGACTGAGTGGTATGCTTACAATTGTCATGTCTAGATTTAAATTTTAAGTCTGAGATTTTAAATGTTTTTGAGCTTAGAAAACCCAGTTAGATGCAATTTGGTCATTAATACCATGACATCTTGCTTATAAATATTCCATTGCTCTGTAGTTCAAATCTGTTAGCTTTGTGAAAATTCATCACTGTGATGTTTGTATTCTTTTTTTTTTTTCTGTTTAACAGAATATGAGCTGTCTGTCATTTACCTACTTCTTTCCCACTAAATAAAAGAATTCTTCAGTTTCCCTGTTAAAAAAAAAAA\""
      ],
      "metadata": {
        "id": "jklPamU28M4i"
      },
      "execution_count": 17,
      "outputs": []
    },
    {
      "cell_type": "code",
      "source": [
        "length=len(dna_sequence)\n",
        "length"
      ],
      "metadata": {
        "colab": {
          "base_uri": "https://localhost:8080/"
        },
        "id": "WOFVHYSlAR5u",
        "outputId": "a38d8f7d-eed0-43a4-f913-54d2c9ec0ce0"
      },
      "execution_count": 22,
      "outputs": [
        {
          "output_type": "execute_result",
          "data": {
            "text/plain": [
              "1335"
            ]
          },
          "metadata": {},
          "execution_count": 22
        }
      ]
    },
    {
      "cell_type": "code",
      "source": [
        "protein_sequence = translate_dna_to_protein(dna_sequence)\n",
        "print(f\"Protein Sequence: {protein_sequence}\")"
      ],
      "metadata": {
        "colab": {
          "base_uri": "https://localhost:8080/"
        },
        "id": "sIf7abGf6owQ",
        "outputId": "4b0faccf-86a7-48d9-9cfe-d16bd7685bd2"
      },
      "execution_count": 36,
      "outputs": [
        {
          "output_type": "stream",
          "name": "stdout",
          "text": [
            "Protein Sequence: FTAFSQKELAGKIREGKFRRIPYRYSDELNEIITRMLNLKDYHRPSVEEILENPLIADLVADEQRRNLERRGRQLGEPEKSQDSSPVLSELKLKEIQLQERERALKAREERLEQKEQELCVRERLAEDKLARAENLLKNYSLLKERKFLSLASNPVIKKKVHFSGESKENIMRSENSESQLTSKSKCKDLKKRLHAAQLRAQALSDIEKNYQLKSRQILGMR*PGRETQSCVQDVILPTFKD*YSNAVVLNTWFHEPCLSV*YT*YFGIGFTVLQQLLYKMFTFNFSFFF*EHIIKRILSWLGF*SCV*LLVGT*DVTF*ILGEKIMLGKKYLCRKSSTH*IVLND*VVCLQLSCLDLNFKSEILNVFELRKPS*MQFGH*YHDILLINIPLLCSSNLLAL*KFITVMFVFFFFFLFNRI*AVCHLPTSFPLNKRILQFPC*KKK\n"
          ]
        }
      ]
    },
    {
      "cell_type": "code",
      "source": [
        "length=len(protein_sequence)\n",
        "length"
      ],
      "metadata": {
        "colab": {
          "base_uri": "https://localhost:8080/"
        },
        "id": "dirJj4dZAOAD",
        "outputId": "0698e778-44f6-40c3-a4ef-ad68ec06bf85"
      },
      "execution_count": 37,
      "outputs": [
        {
          "output_type": "execute_result",
          "data": {
            "text/plain": [
              "445"
            ]
          },
          "metadata": {},
          "execution_count": 37
        }
      ]
    },
    {
      "cell_type": "code",
      "source": [
        "def translate_dna_to_protein_with_stop(dna_sequence):\n",
        "    protein_sequence_1 = \"\"\n",
        "    for i in range(0, len(dna_sequence), 3):\n",
        "        codon = dna_sequence[i:i+3]\n",
        "        amino_acid = genetic_code.get(codon, 'X')  # 'X' represents an unknown amino acid\n",
        "        if amino_acid == '*':\n",
        "            break  # Stop translation when a stop codon is encountered\n",
        "        protein_sequence_1 += amino_acid\n",
        "    return protein_sequence_1\n",
        "protein_sequence_1 = translate_dna_to_protein_with_stop(dna_sequence)\n",
        "print(f\"Protein Sequence_1: {protein_sequence_1}\")"
      ],
      "metadata": {
        "colab": {
          "base_uri": "https://localhost:8080/"
        },
        "id": "saNdPPYo_hal",
        "outputId": "2be43c54-8267-401a-d7cb-f3518bd2c94e"
      },
      "execution_count": 33,
      "outputs": [
        {
          "output_type": "stream",
          "name": "stdout",
          "text": [
            "Protein Sequence_1: FTAFSQKELAGKIREGKFRRIPYRYSDELNEIITRMLNLKDYHRPSVEEILENPLIADLVADEQRRNLERRGRQLGEPEKSQDSSPVLSELKLKEIQLQERERALKAREERLEQKEQELCVRERLAEDKLARAENLLKNYSLLKERKFLSLASNPVIKKKVHFSGESKENIMRSENSESQLTSKSKCKDLKKRLHAAQLRAQALSDIEKNYQLKSRQILGMR\n"
          ]
        }
      ]
    },
    {
      "cell_type": "code",
      "source": [
        "length=len(protein_sequence_1)\n",
        "length"
      ],
      "metadata": {
        "colab": {
          "base_uri": "https://localhost:8080/"
        },
        "id": "RoWYXgh8BMxG",
        "outputId": "c88e6e49-7b64-4bb8-b7b0-e69914c20389"
      },
      "execution_count": 35,
      "outputs": [
        {
          "output_type": "execute_result",
          "data": {
            "text/plain": [
              "222"
            ]
          },
          "metadata": {},
          "execution_count": 35
        }
      ]
    }
  ]
}